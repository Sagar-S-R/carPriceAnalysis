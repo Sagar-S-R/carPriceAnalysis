{
 "cells": [
  {
   "cell_type": "code",
   "id": "initial_id",
   "metadata": {
    "collapsed": true,
    "ExecuteTime": {
     "end_time": "2025-03-01T14:21:56.935779Z",
     "start_time": "2025-03-01T14:21:56.925778Z"
    }
   },
   "source": [
    "import numpy as np\n",
    "import pandas as pd\n",
    "import matplotlib.pyplot as plt\n",
    "import seaborn as sns"
   ],
   "outputs": [],
   "execution_count": 5
  },
  {
   "metadata": {
    "ExecuteTime": {
     "end_time": "2025-03-01T14:21:56.965691Z",
     "start_time": "2025-03-01T14:21:56.959309Z"
    }
   },
   "cell_type": "code",
   "source": [
    "from sklearn.model_selection import train_test_split, GridSearchCV\n",
    "from sklearn.preprocessing import StandardScaler\n",
    "from sklearn.metrics import accuracy_score, confusion_matrix, classification_report, roc_curve, auc"
   ],
   "id": "b7a73118a46ae12b",
   "outputs": [],
   "execution_count": 6
  },
  {
   "metadata": {
    "ExecuteTime": {
     "end_time": "2025-03-01T14:21:56.990224Z",
     "start_time": "2025-03-01T14:21:56.984227Z"
    }
   },
   "cell_type": "code",
   "source": [
    "from sklearn.linear_model import LogisticRegression\n",
    "from sklearn.svm import SVC\n",
    "from sklearn.neighbors import KNeighborsClassifier\n",
    "from sklearn.tree import DecisionTreeClassifier"
   ],
   "id": "f9af00d8311e8573",
   "outputs": [],
   "execution_count": 7
  },
  {
   "metadata": {
    "ExecuteTime": {
     "end_time": "2025-03-01T14:21:57.013023Z",
     "start_time": "2025-03-01T14:21:57.007025Z"
    }
   },
   "cell_type": "code",
   "source": [
    "import warnings\n",
    "warnings.filterwarnings('ignore')"
   ],
   "id": "962bdf858406b3d",
   "outputs": [],
   "execution_count": 8
  },
  {
   "metadata": {
    "ExecuteTime": {
     "end_time": "2025-03-01T14:26:21.241879Z",
     "start_time": "2025-03-01T14:26:21.188035Z"
    }
   },
   "cell_type": "code",
   "source": [
    "path = \"../car_price_dataset.csv\"\n",
    "data = pd.read_csv(path)"
   ],
   "id": "ab4530cd6df4d482",
   "outputs": [],
   "execution_count": 9
  },
  {
   "metadata": {
    "ExecuteTime": {
     "end_time": "2025-03-01T14:26:30.047164Z",
     "start_time": "2025-03-01T14:26:30.022768Z"
    }
   },
   "cell_type": "code",
   "source": [
    "print(\"Dataset shape:\", data.shape)\n",
    "data.head()"
   ],
   "id": "2836ddb6e47539d0",
   "outputs": [
    {
     "name": "stdout",
     "output_type": "stream",
     "text": [
      "Dataset shape: (10000, 10)\n"
     ]
    },
    {
     "data": {
      "text/plain": [
       "        Brand   Model  Year  Engine_Size Fuel_Type    Transmission  Mileage  \\\n",
       "0         Kia     Rio  2020          4.2    Diesel          Manual   289944   \n",
       "1   Chevrolet  Malibu  2012          2.0    Hybrid       Automatic     5356   \n",
       "2    Mercedes     GLA  2020          4.2    Diesel       Automatic   231440   \n",
       "3        Audi      Q5  2023          2.0  Electric          Manual   160971   \n",
       "4  Volkswagen    Golf  2003          2.6    Hybrid  Semi-Automatic   286618   \n",
       "\n",
       "   Doors  Owner_Count  Price  \n",
       "0      3            5   8501  \n",
       "1      2            3  12092  \n",
       "2      4            2  11171  \n",
       "3      2            1  11780  \n",
       "4      3            3   2867  "
      ],
      "text/html": [
       "<div>\n",
       "<style scoped>\n",
       "    .dataframe tbody tr th:only-of-type {\n",
       "        vertical-align: middle;\n",
       "    }\n",
       "\n",
       "    .dataframe tbody tr th {\n",
       "        vertical-align: top;\n",
       "    }\n",
       "\n",
       "    .dataframe thead th {\n",
       "        text-align: right;\n",
       "    }\n",
       "</style>\n",
       "<table border=\"1\" class=\"dataframe\">\n",
       "  <thead>\n",
       "    <tr style=\"text-align: right;\">\n",
       "      <th></th>\n",
       "      <th>Brand</th>\n",
       "      <th>Model</th>\n",
       "      <th>Year</th>\n",
       "      <th>Engine_Size</th>\n",
       "      <th>Fuel_Type</th>\n",
       "      <th>Transmission</th>\n",
       "      <th>Mileage</th>\n",
       "      <th>Doors</th>\n",
       "      <th>Owner_Count</th>\n",
       "      <th>Price</th>\n",
       "    </tr>\n",
       "  </thead>\n",
       "  <tbody>\n",
       "    <tr>\n",
       "      <th>0</th>\n",
       "      <td>Kia</td>\n",
       "      <td>Rio</td>\n",
       "      <td>2020</td>\n",
       "      <td>4.2</td>\n",
       "      <td>Diesel</td>\n",
       "      <td>Manual</td>\n",
       "      <td>289944</td>\n",
       "      <td>3</td>\n",
       "      <td>5</td>\n",
       "      <td>8501</td>\n",
       "    </tr>\n",
       "    <tr>\n",
       "      <th>1</th>\n",
       "      <td>Chevrolet</td>\n",
       "      <td>Malibu</td>\n",
       "      <td>2012</td>\n",
       "      <td>2.0</td>\n",
       "      <td>Hybrid</td>\n",
       "      <td>Automatic</td>\n",
       "      <td>5356</td>\n",
       "      <td>2</td>\n",
       "      <td>3</td>\n",
       "      <td>12092</td>\n",
       "    </tr>\n",
       "    <tr>\n",
       "      <th>2</th>\n",
       "      <td>Mercedes</td>\n",
       "      <td>GLA</td>\n",
       "      <td>2020</td>\n",
       "      <td>4.2</td>\n",
       "      <td>Diesel</td>\n",
       "      <td>Automatic</td>\n",
       "      <td>231440</td>\n",
       "      <td>4</td>\n",
       "      <td>2</td>\n",
       "      <td>11171</td>\n",
       "    </tr>\n",
       "    <tr>\n",
       "      <th>3</th>\n",
       "      <td>Audi</td>\n",
       "      <td>Q5</td>\n",
       "      <td>2023</td>\n",
       "      <td>2.0</td>\n",
       "      <td>Electric</td>\n",
       "      <td>Manual</td>\n",
       "      <td>160971</td>\n",
       "      <td>2</td>\n",
       "      <td>1</td>\n",
       "      <td>11780</td>\n",
       "    </tr>\n",
       "    <tr>\n",
       "      <th>4</th>\n",
       "      <td>Volkswagen</td>\n",
       "      <td>Golf</td>\n",
       "      <td>2003</td>\n",
       "      <td>2.6</td>\n",
       "      <td>Hybrid</td>\n",
       "      <td>Semi-Automatic</td>\n",
       "      <td>286618</td>\n",
       "      <td>3</td>\n",
       "      <td>3</td>\n",
       "      <td>2867</td>\n",
       "    </tr>\n",
       "  </tbody>\n",
       "</table>\n",
       "</div>"
      ]
     },
     "execution_count": 10,
     "metadata": {},
     "output_type": "execute_result"
    }
   ],
   "execution_count": 10
  },
  {
   "metadata": {
    "ExecuteTime": {
     "end_time": "2025-03-01T14:28:12.870882Z",
     "start_time": "2025-03-01T14:28:12.804900Z"
    }
   },
   "cell_type": "code",
   "source": [
    "print(\"Summary Statistics:\")\n",
    "display(data.describe())"
   ],
   "id": "305f51080181e4bb",
   "outputs": [
    {
     "name": "stdout",
     "output_type": "stream",
     "text": [
      "Summary Statistics:\n"
     ]
    },
    {
     "data": {
      "text/plain": [
       "               Year   Engine_Size        Mileage         Doors   Owner_Count  \\\n",
       "count  10000.000000  10000.000000   10000.000000  10000.000000  10000.000000   \n",
       "mean    2011.543700      3.000560  149239.111800      3.497100      2.991100   \n",
       "std        6.897699      1.149324   86322.348957      1.110097      1.422682   \n",
       "min     2000.000000      1.000000      25.000000      2.000000      1.000000   \n",
       "25%     2006.000000      2.000000   74649.250000      3.000000      2.000000   \n",
       "50%     2012.000000      3.000000  149587.000000      3.000000      3.000000   \n",
       "75%     2017.000000      4.000000  223577.500000      4.000000      4.000000   \n",
       "max     2023.000000      5.000000  299947.000000      5.000000      5.000000   \n",
       "\n",
       "             Price  \n",
       "count  10000.00000  \n",
       "mean    8852.96440  \n",
       "std     3112.59681  \n",
       "min     2000.00000  \n",
       "25%     6646.00000  \n",
       "50%     8858.50000  \n",
       "75%    11086.50000  \n",
       "max    18301.00000  "
      ],
      "text/html": [
       "<div>\n",
       "<style scoped>\n",
       "    .dataframe tbody tr th:only-of-type {\n",
       "        vertical-align: middle;\n",
       "    }\n",
       "\n",
       "    .dataframe tbody tr th {\n",
       "        vertical-align: top;\n",
       "    }\n",
       "\n",
       "    .dataframe thead th {\n",
       "        text-align: right;\n",
       "    }\n",
       "</style>\n",
       "<table border=\"1\" class=\"dataframe\">\n",
       "  <thead>\n",
       "    <tr style=\"text-align: right;\">\n",
       "      <th></th>\n",
       "      <th>Year</th>\n",
       "      <th>Engine_Size</th>\n",
       "      <th>Mileage</th>\n",
       "      <th>Doors</th>\n",
       "      <th>Owner_Count</th>\n",
       "      <th>Price</th>\n",
       "    </tr>\n",
       "  </thead>\n",
       "  <tbody>\n",
       "    <tr>\n",
       "      <th>count</th>\n",
       "      <td>10000.000000</td>\n",
       "      <td>10000.000000</td>\n",
       "      <td>10000.000000</td>\n",
       "      <td>10000.000000</td>\n",
       "      <td>10000.000000</td>\n",
       "      <td>10000.00000</td>\n",
       "    </tr>\n",
       "    <tr>\n",
       "      <th>mean</th>\n",
       "      <td>2011.543700</td>\n",
       "      <td>3.000560</td>\n",
       "      <td>149239.111800</td>\n",
       "      <td>3.497100</td>\n",
       "      <td>2.991100</td>\n",
       "      <td>8852.96440</td>\n",
       "    </tr>\n",
       "    <tr>\n",
       "      <th>std</th>\n",
       "      <td>6.897699</td>\n",
       "      <td>1.149324</td>\n",
       "      <td>86322.348957</td>\n",
       "      <td>1.110097</td>\n",
       "      <td>1.422682</td>\n",
       "      <td>3112.59681</td>\n",
       "    </tr>\n",
       "    <tr>\n",
       "      <th>min</th>\n",
       "      <td>2000.000000</td>\n",
       "      <td>1.000000</td>\n",
       "      <td>25.000000</td>\n",
       "      <td>2.000000</td>\n",
       "      <td>1.000000</td>\n",
       "      <td>2000.00000</td>\n",
       "    </tr>\n",
       "    <tr>\n",
       "      <th>25%</th>\n",
       "      <td>2006.000000</td>\n",
       "      <td>2.000000</td>\n",
       "      <td>74649.250000</td>\n",
       "      <td>3.000000</td>\n",
       "      <td>2.000000</td>\n",
       "      <td>6646.00000</td>\n",
       "    </tr>\n",
       "    <tr>\n",
       "      <th>50%</th>\n",
       "      <td>2012.000000</td>\n",
       "      <td>3.000000</td>\n",
       "      <td>149587.000000</td>\n",
       "      <td>3.000000</td>\n",
       "      <td>3.000000</td>\n",
       "      <td>8858.50000</td>\n",
       "    </tr>\n",
       "    <tr>\n",
       "      <th>75%</th>\n",
       "      <td>2017.000000</td>\n",
       "      <td>4.000000</td>\n",
       "      <td>223577.500000</td>\n",
       "      <td>4.000000</td>\n",
       "      <td>4.000000</td>\n",
       "      <td>11086.50000</td>\n",
       "    </tr>\n",
       "    <tr>\n",
       "      <th>max</th>\n",
       "      <td>2023.000000</td>\n",
       "      <td>5.000000</td>\n",
       "      <td>299947.000000</td>\n",
       "      <td>5.000000</td>\n",
       "      <td>5.000000</td>\n",
       "      <td>18301.00000</td>\n",
       "    </tr>\n",
       "  </tbody>\n",
       "</table>\n",
       "</div>"
      ]
     },
     "metadata": {},
     "output_type": "display_data"
    }
   ],
   "execution_count": 11
  },
  {
   "metadata": {
    "ExecuteTime": {
     "end_time": "2025-03-01T14:28:20.897482Z",
     "start_time": "2025-03-01T14:28:20.878597Z"
    }
   },
   "cell_type": "code",
   "source": [
    "print(\"\\nMissing Values:\")\n",
    "print(data.isnull().sum())"
   ],
   "id": "7b4e3a5bc9d377ff",
   "outputs": [
    {
     "name": "stdout",
     "output_type": "stream",
     "text": [
      "\n",
      "Missing Values:\n",
      "Brand           0\n",
      "Model           0\n",
      "Year            0\n",
      "Engine_Size     0\n",
      "Fuel_Type       0\n",
      "Transmission    0\n",
      "Mileage         0\n",
      "Doors           0\n",
      "Owner_Count     0\n",
      "Price           0\n",
      "dtype: int64\n"
     ]
    }
   ],
   "execution_count": 12
  },
  {
   "metadata": {
    "ExecuteTime": {
     "end_time": "2025-03-01T14:29:21.582180Z",
     "start_time": "2025-03-01T14:29:21.566067Z"
    }
   },
   "cell_type": "code",
   "source": [
    "target_column = 'Owner_Count'\n",
    "print(\"\\nTarget Value Distribution:\")\n",
    "print(data[target_column].value_counts())"
   ],
   "id": "dddaad819cb3267e",
   "outputs": [
    {
     "name": "stdout",
     "output_type": "stream",
     "text": [
      "\n",
      "Target Value Distribution:\n",
      "Owner_Count\n",
      "5    2036\n",
      "1    2036\n",
      "2    2020\n",
      "3    1977\n",
      "4    1931\n",
      "Name: count, dtype: int64\n"
     ]
    }
   ],
   "execution_count": 15
  },
  {
   "metadata": {
    "ExecuteTime": {
     "end_time": "2025-03-01T14:29:39.099834Z",
     "start_time": "2025-03-01T14:29:38.135143Z"
    }
   },
   "cell_type": "code",
   "source": [
    "plt.figure(figsize=(12, 6))\n",
    "sns.countplot(x=target_column, data=data)\n",
    "plt.title(\"Target Variable Distribution\")\n",
    "plt.show()"
   ],
   "id": "21cc3663737cf27a",
   "outputs": [
    {
     "data": {
      "text/plain": [
       "<Figure size 1200x600 with 1 Axes>"
      ],
      "image/png": "[encoded data removed]"
     },
     "metadata": {},
     "output_type": "display_data"
    }
   ],
   "execution_count": 16
  },
  {
   "metadata": {},
   "cell_type": "markdown",
   "source": [
    "# Correlation Heatmap\n",
    "### the correlation heatmap converts numerical correlation values into a color-coded grid, providing a clear and intuitive way to explore relationships between variables."
   ],
   "id": "f60844530ca25536"
  },
  {
   "metadata": {
    "ExecuteTime": {
     "end_time": "2025-03-01T14:32:51.918611Z",
     "start_time": "2025-03-01T14:32:51.705379Z"
    }
   },
   "cell_type": "code",
   "source": [
    "plt.figure(figsize=(10, 8))\n",
    "sns.heatmap(data.corr(numeric_only=True), annot=True, cmap='coolwarm')\n",
    "plt.title(\"Correlation Heatmap\")\n",
    "plt.show()"
   ],
   "id": "47eddac4c0a99f23",
   "outputs": [
    {
     "data": {
      "text/plain": [
       "<Figure size 1000x800 with 2 Axes>"
      ],
      "image/png": "[encoded data removed]"
     },
     "metadata": {},
     "output_type": "display_data"
    }
   ],
   "execution_count": 19
  },
  {
   "metadata": {},
   "cell_type": "code",
   "outputs": [],
   "execution_count": null,
   "source": "",
   "id": "9194c8b9fdd29a88"
  }
 ],
 "metadata": {
  "kernelspec": {
   "display_name": "Python 3",
   "language": "python",
   "name": "python3"
  },
  "language_info": {
   "codemirror_mode": {
    "name": "ipython",
    "version": 2
   },
   "file_extension": ".py",
   "mimetype": "text/x-python",
   "name": "python",
   "nbconvert_exporter": "python",
   "pygments_lexer": "ipython2",
   "version": "2.7.6"
  }
 },
 "nbformat": 4,
 "nbformat_minor": 5
}
